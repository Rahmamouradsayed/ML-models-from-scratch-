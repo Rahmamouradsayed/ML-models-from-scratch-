{
  "nbformat": 4,
  "nbformat_minor": 0,
  "metadata": {
    "colab": {
      "provenance": [],
      "include_colab_link": true
    },
    "kernelspec": {
      "name": "python3",
      "display_name": "Python 3"
    },
    "language_info": {
      "name": "python"
    }
  },
  "cells": [
    {
      "cell_type": "markdown",
      "metadata": {
        "id": "view-in-github",
        "colab_type": "text"
      },
      "source": [
        "<a href=\"https://colab.research.google.com/github/Rahmamouradsayed/ML-models-from-scratch-/blob/main/Neural_Network_From_Scratch.ipynb\" target=\"_parent\"><img src=\"https://colab.research.google.com/assets/colab-badge.svg\" alt=\"Open In Colab\"/></a>"
      ]
    },
    {
      "cell_type": "code",
      "source": [
        "import numpy as np\n",
        "import pandas as pd\n",
        "from keras.datasets import mnist"
      ],
      "metadata": {
        "id": "2VO8_mJiVfme"
      },
      "execution_count": null,
      "outputs": []
    },
    {
      "cell_type": "code",
      "source": [
        "# Activation function (sigmoid)\n",
        "def sigmoid(x):\n",
        "    return 1 / (1 + np.exp(-x))"
      ],
      "metadata": {
        "id": "nCfhS0DKVgCz"
      },
      "execution_count": null,
      "outputs": []
    },
    {
      "cell_type": "code",
      "source": [
        "# Derivative of sigmoid function\n",
        "def sigmoid_derivative(x):\n",
        "    return x * (1 - x)"
      ],
      "metadata": {
        "id": "IeNANbgCVpsh"
      },
      "execution_count": null,
      "outputs": []
    },
    {
      "cell_type": "code",
      "source": [
        "class NeuralNetwork:\n",
        "    def __init__(self, input_size, hidden_size, output_size):\n",
        "        self.input_size = input_size\n",
        "        self.hidden_size = hidden_size\n",
        "        self.output_size = output_size\n",
        "\n",
        "        # Initialize weights and biases randomly\n",
        "        self.weights_input_hidden = np.random.randn(self.input_size, self.hidden_size)\n",
        "        self.bias_hidden = np.random.randn(1, self.hidden_size)\n",
        "        self.weights_hidden_output = np.random.randn(self.hidden_size, self.output_size)\n",
        "        self.bias_output = np.random.randn(1, self.output_size)\n",
        "\n",
        "    def feedforward(self, X):\n",
        "        # Feedforward propagation\n",
        "        self.hidden_input = np.dot(X, self.weights_input_hidden) + self.bias_hidden\n",
        "        self.hidden_output = sigmoid(self.hidden_input)\n",
        "        self.output = sigmoid(np.dot(self.hidden_output, self.weights_hidden_output) + self.bias_output)\n",
        "        return self.output\n",
        "\n",
        "    def backpropagation(self, X, y, learning_rate):\n",
        "        # Backpropagation algorithm\n",
        "        error = y - self.output\n",
        "        d_output = error * sigmoid_derivative(self.output)\n",
        "\n",
        "        error_hidden = np.dot(d_output, self.weights_hidden_output.T)\n",
        "        d_hidden = error_hidden * sigmoid_derivative(self.hidden_output)\n",
        "\n",
        "        # Update weights and biases\n",
        "        self.weights_hidden_output += np.dot(self.hidden_output.T, d_output) * learning_rate\n",
        "        self.bias_output += np.sum(d_output, axis=0) * learning_rate\n",
        "        self.weights_input_hidden += np.dot(X.T, d_hidden) * learning_rate\n",
        "        self.bias_hidden += np.sum(d_hidden, axis=0) * learning_rate\n",
        "\n",
        "    def train(self, X, y, epochs, learning_rate):\n",
        "        # Train the neural network\n",
        "        for epoch in range(epochs):\n",
        "            self.feedforward(X)\n",
        "            self.backpropagation(X, y, learning_rate)\n",
        "\n",
        "            # Print loss every 100 epochs\n",
        "            if epoch % 100 == 0:\n",
        "                loss = np.mean(np.square(y - self.output))\n",
        "                print(f'Epoch {epoch}, Loss: {loss}')\n",
        "\n",
        "    def test(self, X_test, y_test):\n",
        "        # Test the neural network\n",
        "        predictions = np.argmax(self.feedforward(X_test), axis=1)\n",
        "        accuracy = np.mean(predictions == y_test)\n",
        "        confusion_matrix = pd.crosstab(index=y_test, columns=predictions, rownames=['True'], colnames=['Predicted'])\n",
        "        return accuracy, confusion_matrix"
      ],
      "metadata": {
        "id": "1yExHp7yVgOF"
      },
      "execution_count": null,
      "outputs": []
    },
    {
      "cell_type": "code",
      "source": [
        "# Load MNIST dataset\n",
        "(X_train, y_train), (X_test, y_test) = mnist.load_data()"
      ],
      "metadata": {
        "id": "RMt26A2mVgZS"
      },
      "execution_count": null,
      "outputs": []
    },
    {
      "cell_type": "code",
      "source": [
        "# Flatten the images\n",
        "X_train_flatten = X_train.reshape(X_train.shape[0], -1) / 255.0\n",
        "X_test_flatten = X_test.reshape(X_test.shape[0], -1) / 255.0"
      ],
      "metadata": {
        "id": "bLgBqUyxV46N"
      },
      "execution_count": null,
      "outputs": []
    },
    {
      "cell_type": "code",
      "source": [
        "# Convert labels to one-hot encoding\n",
        "num_classes = 10\n",
        "y_train_onehot = pd.get_dummies(y_train).values\n",
        "y_test_onehot = pd.get_dummies(y_test).values"
      ],
      "metadata": {
        "id": "fYJ16MmEV5Gs"
      },
      "execution_count": null,
      "outputs": []
    },
    {
      "cell_type": "code",
      "source": [
        "# Initialize and train the neural network\n",
        "input_size = X_train_flatten.shape[1]\n",
        "hidden_size = 128\n",
        "output_size = num_classes\n",
        "epochs = 200  # Increase the number of epochs\n",
        "learning_rate = 0.1  # Adjust the learning rate"
      ],
      "metadata": {
        "id": "gxgKcu9wV_R9"
      },
      "execution_count": null,
      "outputs": []
    },
    {
      "cell_type": "code",
      "source": [
        "nn = NeuralNetwork(input_size, hidden_size, output_size)\n",
        "nn.train(X_train_flatten, y_train_onehot, epochs, learning_rate)"
      ],
      "metadata": {
        "colab": {
          "base_uri": "https://localhost:8080/"
        },
        "id": "jSAmL6A9l1Kj",
        "outputId": "61403eed-eba9-4927-d3c8-fcd873015980"
      },
      "execution_count": null,
      "outputs": [
        {
          "output_type": "stream",
          "name": "stdout",
          "text": [
            "Epoch 0, Loss: 0.46924233162232004\n"
          ]
        },
        {
          "output_type": "stream",
          "name": "stderr",
          "text": [
            "<ipython-input-12-4512126852d1>:3: RuntimeWarning: overflow encountered in exp\n",
            "  return 1 / (1 + np.exp(-x))\n"
          ]
        },
        {
          "output_type": "stream",
          "name": "stdout",
          "text": [
            "Epoch 100, Loss: 0.09999999999999866\n"
          ]
        }
      ]
    },
    {
      "cell_type": "code",
      "source": [
        "# Test the neural network\n",
        "accuracy, confusion_matrix = nn.test(X_test_flatten, y_test)\n",
        "print(\"Accuracy:\", accuracy)\n",
        "print(\"\\nConfusion Matrix:\")\n",
        "print(confusion_matrix)"
      ],
      "metadata": {
        "colab": {
          "base_uri": "https://localhost:8080/"
        },
        "id": "9pz3PeHEWFTo",
        "outputId": "871d6b7d-3b76-4873-d277-36d9d4a7ab70"
      },
      "execution_count": null,
      "outputs": [
        {
          "output_type": "stream",
          "name": "stdout",
          "text": [
            "Accuracy: 0.101\n",
            "\n",
            "Confusion Matrix:\n",
            "Predicted     3\n",
            "True           \n",
            "0           980\n",
            "1          1135\n",
            "2          1032\n",
            "3          1010\n",
            "4           982\n",
            "5           892\n",
            "6           958\n",
            "7          1028\n",
            "8           974\n",
            "9          1009\n"
          ]
        },
        {
          "output_type": "stream",
          "name": "stderr",
          "text": [
            "<ipython-input-12-4512126852d1>:3: RuntimeWarning: overflow encountered in exp\n",
            "  return 1 / (1 + np.exp(-x))\n"
          ]
        }
      ]
    }
  ]
}