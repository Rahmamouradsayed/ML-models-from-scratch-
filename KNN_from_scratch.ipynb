{
  "nbformat": 4,
  "nbformat_minor": 0,
  "metadata": {
    "colab": {
      "provenance": [],
      "include_colab_link": true
    },
    "kernelspec": {
      "name": "python3",
      "display_name": "Python 3"
    },
    "language_info": {
      "name": "python"
    }
  },
  "cells": [
    {
      "cell_type": "markdown",
      "metadata": {
        "id": "view-in-github",
        "colab_type": "text"
      },
      "source": [
        "<a href=\"https://colab.research.google.com/github/Rahmamouradsayed/ML-models-from-scratch-/blob/main/KNN_from_scratch.ipynb\" target=\"_parent\"><img src=\"https://colab.research.google.com/assets/colab-badge.svg\" alt=\"Open In Colab\"/></a>"
      ]
    },
    {
      "cell_type": "code",
      "execution_count": null,
      "metadata": {
        "id": "IIdOKCVo2mU2"
      },
      "outputs": [],
      "source": [
        "#!pip install -U scikit-learn"
      ]
    },
    {
      "cell_type": "code",
      "source": [
        "import pandas as pd\n",
        "import numpy as np\n",
        "import seaborn as sns\n",
        "import matplotlib.pyplot as plt\n",
        "from sklearn import datasets\n",
        "from sklearn.preprocessing import Normalizer\n",
        "from collections import Counter\n",
        "from sklearn.neighbors import KNeighborsClassifier\n",
        "from sklearn.metrics import accuracy_score\n",
        "from sklearn.model_selection import train_test_split"
      ],
      "metadata": {
        "id": "0Ih1YpO62uIX"
      },
      "execution_count": null,
      "outputs": []
    },
    {
      "cell_type": "code",
      "source": [
        "# Import iris dataset\n",
        "iris = datasets.load_iris()\n",
        "\n",
        "# Access the features (X) and target variable (y)\n",
        "X = iris.data\n",
        "y = iris.target\n",
        "\n",
        "# Convert the feature array into a DataFrame\n",
        "iris_df = pd.DataFrame(X, columns=iris.feature_names)\n",
        "\n",
        "# Add the target variable as a new column in the DataFrame\n",
        "iris_df['target'] = y\n",
        "\n",
        "print(iris_df.head())"
      ],
      "metadata": {
        "colab": {
          "base_uri": "https://localhost:8080/"
        },
        "id": "cX5pqR4a2130",
        "outputId": "d849b6be-3b88-48ad-f646-f81b82d29d49"
      },
      "execution_count": null,
      "outputs": [
        {
          "output_type": "stream",
          "name": "stdout",
          "text": [
            "   sepal length (cm)  sepal width (cm)  petal length (cm)  petal width (cm)  \\\n",
            "0                5.1               3.5                1.4               0.2   \n",
            "1                4.9               3.0                1.4               0.2   \n",
            "2                4.7               3.2                1.3               0.2   \n",
            "3                4.6               3.1                1.5               0.2   \n",
            "4                5.0               3.6                1.4               0.2   \n",
            "\n",
            "   target  \n",
            "0       0  \n",
            "1       0  \n",
            "2       0  \n",
            "3       0  \n",
            "4       0  \n"
          ]
        }
      ]
    },
    {
      "cell_type": "code",
      "source": [
        "#preprocessing and data cleaning step"
      ],
      "metadata": {
        "id": "Du59iWPi3i3c"
      },
      "execution_count": null,
      "outputs": []
    },
    {
      "cell_type": "code",
      "source": [
        "# Show the dataset infromation\n",
        "iris_df.info()"
      ],
      "metadata": {
        "colab": {
          "base_uri": "https://localhost:8080/"
        },
        "id": "EwfUoMaT3A_O",
        "outputId": "81ed4950-fb5b-4f67-db0d-1a55a1118260"
      },
      "execution_count": null,
      "outputs": [
        {
          "output_type": "stream",
          "name": "stdout",
          "text": [
            "<class 'pandas.core.frame.DataFrame'>\n",
            "RangeIndex: 150 entries, 0 to 149\n",
            "Data columns (total 5 columns):\n",
            " #   Column             Non-Null Count  Dtype  \n",
            "---  ------             --------------  -----  \n",
            " 0   sepal length (cm)  150 non-null    float64\n",
            " 1   sepal width (cm)   150 non-null    float64\n",
            " 2   petal length (cm)  150 non-null    float64\n",
            " 3   petal width (cm)   150 non-null    float64\n",
            " 4   target             150 non-null    int64  \n",
            "dtypes: float64(4), int64(1)\n",
            "memory usage: 6.0 KB\n"
          ]
        }
      ]
    },
    {
      "cell_type": "code",
      "source": [
        "#check for missing data\n",
        "missing_data =iris_df.isnull().sum()\n",
        "print(missing_data)"
      ],
      "metadata": {
        "colab": {
          "base_uri": "https://localhost:8080/"
        },
        "id": "Eb4MTzqZ3KTJ",
        "outputId": "d53c2ac3-9846-41dd-a468-fff90e8be4a8"
      },
      "execution_count": null,
      "outputs": [
        {
          "output_type": "stream",
          "name": "stdout",
          "text": [
            "sepal length (cm)    0\n",
            "sepal width (cm)     0\n",
            "petal length (cm)    0\n",
            "petal width (cm)     0\n",
            "target               0\n",
            "dtype: int64\n"
          ]
        }
      ]
    },
    {
      "cell_type": "code",
      "source": [
        "#check duplicates\n",
        "duplicate=iris_df.duplicated().sum()\n",
        "print(\" num_of_dublicate rows is :\",duplicate)"
      ],
      "metadata": {
        "colab": {
          "base_uri": "https://localhost:8080/"
        },
        "id": "iJMVzbK43N-u",
        "outputId": "8651267c-d073-461c-ffe9-a7f423fddbad"
      },
      "execution_count": null,
      "outputs": [
        {
          "output_type": "stream",
          "name": "stdout",
          "text": [
            " num_of_dublicate rows is : 1\n"
          ]
        }
      ]
    },
    {
      "cell_type": "code",
      "source": [
        "#drop duplicates\n",
        "drop_duplicate=iris_df.drop_duplicates(inplace=True)\n",
        "print(\"num_of_rows after remove duplicate:\",drop_duplicate)"
      ],
      "metadata": {
        "colab": {
          "base_uri": "https://localhost:8080/"
        },
        "id": "4MSVh29D3P0N",
        "outputId": "07e721bf-8798-420a-91bf-be9a3e3f6c72"
      },
      "execution_count": null,
      "outputs": [
        {
          "output_type": "stream",
          "name": "stdout",
          "text": [
            "num_of_rows after remove duplicate: None\n"
          ]
        }
      ]
    },
    {
      "cell_type": "code",
      "source": [
        "#check the traing set size and test set size:\n",
        "# Split the data into training and testing sets\n",
        "X_train, X_test, y_train, y_test = train_test_split(X, y, test_size=0.2, random_state=42)\n",
        "\n",
        "# Check the training set size\n",
        "train_size = X_train.shape[0]\n",
        "print(\"Training set size:\", train_size)\n",
        "\n",
        "# Check the test set size\n",
        "test_size = X_test.shape[0]\n",
        "print(\"Test set size:\", test_size)"
      ],
      "metadata": {
        "colab": {
          "base_uri": "https://localhost:8080/"
        },
        "id": "0saL7orq4BXy",
        "outputId": "9a31c743-c224-4f17-fe33-30a46977f54e"
      },
      "execution_count": null,
      "outputs": [
        {
          "output_type": "stream",
          "name": "stdout",
          "text": [
            "Training set size: 120\n",
            "Test set size: 30\n"
          ]
        }
      ]
    },
    {
      "cell_type": "code",
      "source": [
        "def distance_ecu(normalized_X_train, normalized_X_test):\n",
        "    \"\"\"\n",
        "    Input:\n",
        "        - normalized_X_train: Corresponding to the training data\n",
        "        - normalized_X_test: Corresponding to the test point\n",
        "\n",
        "    Output:\n",
        "        - distances: The distances between the test point and each point in the training data.\n",
        "    \"\"\"\n",
        "    distances = []\n",
        "\n",
        "    # Loop over the rows of normalized_X_train\n",
        "    for row in range(len(normalized_X_train)):\n",
        "        # Get the points one by one\n",
        "        current_train_point = normalized_X_train[row]\n",
        "\n",
        "        # Initialize the distance to zero\n",
        "        current_distance = 0\n",
        "\n",
        "        # Loop over the columns of the row\n",
        "        for col in range(len(current_train_point)):\n",
        "            current_distance += (current_train_point[col] - normalized_X_test[col]) ** 2\n",
        "\n",
        "        current_distance = np.sqrt(current_distance)\n",
        "\n",
        "        # Append the distances\n",
        "        distances.append(current_distance)\n",
        "\n",
        "    # Store distances in a DataFrame\n",
        "    distances = pd.DataFrame(data=distances, columns=['distance'])\n",
        "    return distances"
      ],
      "metadata": {
        "id": "8ohneCgS4WD-"
      },
      "execution_count": null,
      "outputs": []
    },
    {
      "cell_type": "code",
      "source": [
        "def nearest_neighbors(distance_point, K):\n",
        "    \"\"\"\n",
        "    Input:\n",
        "        - distance_point: The distances between the test point and each point in the training data.\n",
        "        - K: The number of neighbors\n",
        "\n",
        "    Output:\n",
        "        - df_nearest: The nearest K neighbors between the test point and the training data\n",
        "    \"\"\"\n",
        "    # Sort distances using the sort_values function\n",
        "    df_nearest = distance_point.sort_values(by='distance')\n",
        "\n",
        "    # Take only the first K neighbors\n",
        "    df_nearest = df_nearest.head(K)\n",
        "    return df_nearest"
      ],
      "metadata": {
        "id": "IMAi0ibR5Ggl"
      },
      "execution_count": null,
      "outputs": []
    },
    {
      "cell_type": "code",
      "source": [
        "\n",
        "def voting(df_nearest, y_train):\n",
        "    \"\"\"\n",
        "    Input:\n",
        "        - df_nearest: DataFrame containing the nearest K neighbors between the full training dataset and the test point\n",
        "        - y_train: The labels of the training dataset\n",
        "\n",
        "    Output:\n",
        "        - y_pred: The prediction based on Majority Voting\n",
        "    \"\"\"\n",
        "    # Use the Counter object to get the labels with K nearest neighbors\n",
        "    counter_vote = Counter(y_train[df_nearest.index])\n",
        "\n",
        "    # Perform Majority Voting\n",
        "    y_pred = counter_vote.most_common(1)[0][0]\n",
        "\n",
        "    return y_pred"
      ],
      "metadata": {
        "id": "lCJPtCPr5H0U"
      },
      "execution_count": null,
      "outputs": []
    },
    {
      "cell_type": "code",
      "source": [
        "def KNN_from_scratch(x_train, y_train, x_test, K):\n",
        "    \"\"\"\n",
        "    Input:\n",
        "    - x_train: The full training dataset\n",
        "    - y_train: The labels of the training dataset\n",
        "    - x_test: The full test dataset\n",
        "    - K: The number of neighbors\n",
        "\n",
        "    Output:\n",
        "    - y_pred: The prediction for the whole test set based on Majority Voting\n",
        "    \"\"\"\n",
        "    y_pred = []\n",
        "\n",
        "    # Loop over all the test set and perform the three steps\n",
        "    for test_point in x_test:\n",
        "        # Step 1\n",
        "        distance_point = distance_ecu(x_train, test_point)\n",
        "        # Step 2\n",
        "        df_nearest_point = nearest_neighbors(distance_point, K)\n",
        "        # Step 3\n",
        "        y_pred_point = voting(df_nearest_point, y_train)\n",
        "\n",
        "        y_pred.append(y_pred_point)\n",
        "\n",
        "    return y_pred"
      ],
      "metadata": {
        "id": "xJU-YlNP5gj5"
      },
      "execution_count": null,
      "outputs": []
    },
    {
      "cell_type": "code",
      "source": [
        "#test at k = 3\n",
        "K1=3\n",
        "y_pred_scratch = KNN_from_scratch(X_train,y_train,X_test,K)\n",
        "print(y_pred_scratch)"
      ],
      "metadata": {
        "colab": {
          "base_uri": "https://localhost:8080/"
        },
        "id": "ei8M35zSCMlo",
        "outputId": "5de57321-ca77-4e99-ddb5-6dfad150195d"
      },
      "execution_count": null,
      "outputs": [
        {
          "output_type": "stream",
          "name": "stdout",
          "text": [
            "[1, 0, 2, 1, 1, 0, 1, 2, 1, 1, 2, 0, 0, 0, 0, 1, 2, 1, 1, 2, 0, 2, 0, 2, 2, 2, 2, 2, 0, 0]\n"
          ]
        }
      ]
    },
    {
      "cell_type": "code",
      "source": [
        "K2=5\n",
        "y_pred_scratch = KNN_from_scratch(X_train,y_train,X_test,K)\n",
        "print(y_pred_scratch)"
      ],
      "metadata": {
        "colab": {
          "base_uri": "https://localhost:8080/"
        },
        "id": "AE27i7B-XEPj",
        "outputId": "78459bfc-67c6-406c-f060-e9f8d4e5ef38"
      },
      "execution_count": null,
      "outputs": [
        {
          "output_type": "stream",
          "name": "stdout",
          "text": [
            "[1, 0, 2, 1, 1, 0, 1, 2, 1, 1, 2, 0, 0, 0, 0, 1, 2, 1, 1, 2, 0, 2, 0, 2, 2, 2, 2, 2, 0, 0]\n"
          ]
        }
      ]
    },
    {
      "cell_type": "code",
      "source": [
        "K3=7\n",
        "y_pred_scratch = KNN_from_scratch(X_train,y_train,X_test,K)\n",
        "print(y_pred_scratch)"
      ],
      "metadata": {
        "colab": {
          "base_uri": "https://localhost:8080/"
        },
        "id": "7aHgOxg2XHOl",
        "outputId": "9cf9a4be-b87e-42ed-9a30-fa0341467462"
      },
      "execution_count": null,
      "outputs": [
        {
          "output_type": "stream",
          "name": "stdout",
          "text": [
            "[1, 0, 2, 1, 1, 0, 1, 2, 1, 1, 2, 0, 0, 0, 0, 1, 2, 1, 1, 2, 0, 2, 0, 2, 2, 2, 2, 2, 0, 0]\n"
          ]
        }
      ]
    },
    {
      "cell_type": "code",
      "source": [
        "accuracy_dict = {}\n",
        "k_values=[3,5,7]\n",
        "for k in k_values:\n",
        "    knn = KNeighborsClassifier(n_neighbors=k)\n",
        "\n",
        "    knn.fit(X_train, y_train)\n",
        "    y_pred_sklearn = knn.predict(X_test)\n",
        "    accuracy = accuracy_score(y_test, y_pred_sklearn)\n",
        "    accuracy_dict[k] = accuracy\n",
        "    print(f\"Accuracy for K = {k}: {accuracy}\")\n",
        "\n",
        "best_k = max(accuracy_dict, key=accuracy_dict.get)\n",
        "best_accuracy = accuracy_dict[best_k]\n",
        "\n",
        "print(f\"\\nBest K value: {best_k}\")\n",
        "print(f\"Best accuracy: {best_accuracy}\")"
      ],
      "metadata": {
        "colab": {
          "base_uri": "https://localhost:8080/"
        },
        "id": "zpLJMUoEYdbf",
        "outputId": "cca77d85-8392-4011-a40a-da00d752bd19"
      },
      "execution_count": null,
      "outputs": [
        {
          "output_type": "stream",
          "name": "stdout",
          "text": [
            "Accuracy for K = 3: 1.0\n",
            "Accuracy for K = 5: 1.0\n",
            "Accuracy for K = 7: 0.9666666666666667\n",
            "\n",
            "Best K value: 3\n",
            "Best accuracy: 1.0\n"
          ]
        }
      ]
    },
    {
      "cell_type": "code",
      "source": [
        "# Create a Normalizer object\n",
        "normalizer = Normalizer()\n",
        "\n",
        "# Fit the Normalizer to the training set\n",
        "scaler = normalizer.fit(X_train)\n",
        "\n",
        "# Apply the Normalizer to the training set\n",
        "normalized_X_train = scaler.transform(X_train)\n",
        "\n",
        "# Apply the Normalizer to the test set\n",
        "normalized_X_test = scaler.transform(X_test)"
      ],
      "metadata": {
        "id": "kdvOJgDP4ELH"
      },
      "execution_count": null,
      "outputs": []
    },
    {
      "cell_type": "code",
      "source": [
        "print(\"X train before Normalization\")\n",
        "print(X_train[0:5])\n",
        "print(\"\\nX train after Normalization\")\n",
        "print(normalized_X_train[0:5])"
      ],
      "metadata": {
        "colab": {
          "base_uri": "https://localhost:8080/"
        },
        "id": "otfyqkz64RdJ",
        "outputId": "e66058a9-c0c9-4e9a-ab01-42cdcbb438bd"
      },
      "execution_count": null,
      "outputs": [
        {
          "output_type": "stream",
          "name": "stdout",
          "text": [
            "X train before Normalization\n",
            "[[4.6 3.6 1.  0.2]\n",
            " [5.7 4.4 1.5 0.4]\n",
            " [6.7 3.1 4.4 1.4]\n",
            " [4.8 3.4 1.6 0.2]\n",
            " [4.4 3.2 1.3 0.2]]\n",
            "\n",
            "X train after Normalization\n",
            "[[0.77577075 0.60712493 0.16864581 0.03372916]\n",
            " [0.77381111 0.59732787 0.2036345  0.05430253]\n",
            " [0.76945444 0.35601624 0.50531337 0.16078153]\n",
            " [0.786991   0.55745196 0.26233033 0.03279129]\n",
            " [0.78609038 0.57170209 0.23225397 0.03573138]]\n"
          ]
        }
      ]
    },
    {
      "cell_type": "code",
      "source": [
        "#test at k = 3\n",
        "K1=3\n",
        "y_pred_scratch = KNN_from_scratch(normalized_X_train,y_train,normalized_X_test,K)\n",
        "print(y_pred_scratch)"
      ],
      "metadata": {
        "colab": {
          "base_uri": "https://localhost:8080/"
        },
        "id": "CI9Ez0csrRNY",
        "outputId": "5b1abcd9-ad7d-45a0-efe7-c936f7f28fd6"
      },
      "execution_count": null,
      "outputs": [
        {
          "output_type": "stream",
          "name": "stdout",
          "text": [
            "[1, 0, 2, 1, 1, 0, 1, 2, 1, 1, 2, 0, 0, 0, 0, 1, 2, 1, 1, 2, 0, 2, 0, 2, 2, 2, 2, 2, 0, 0]\n"
          ]
        }
      ]
    },
    {
      "cell_type": "code",
      "source": [
        "K1=5\n",
        "y_pred_scratch = KNN_from_scratch(normalized_X_train,y_train,normalized_X_test,K)\n",
        "print(y_pred_scratch)"
      ],
      "metadata": {
        "colab": {
          "base_uri": "https://localhost:8080/"
        },
        "id": "brY_qxIMrTD-",
        "outputId": "08d2ffa2-de55-4b41-e955-2979c232feff"
      },
      "execution_count": null,
      "outputs": [
        {
          "output_type": "stream",
          "name": "stdout",
          "text": [
            "[1, 0, 2, 1, 1, 0, 1, 2, 1, 1, 2, 0, 0, 0, 0, 1, 2, 1, 1, 2, 0, 2, 0, 2, 2, 2, 2, 2, 0, 0]\n"
          ]
        }
      ]
    },
    {
      "cell_type": "code",
      "source": [
        "K1=7\n",
        "y_pred_scratch = KNN_from_scratch(normalized_X_train,y_train,normalized_X_test,K)\n",
        "print(y_pred_scratch)"
      ],
      "metadata": {
        "colab": {
          "base_uri": "https://localhost:8080/"
        },
        "id": "HvhAqeUTrTN8",
        "outputId": "b9e3a749-2e1d-42d9-e617-c7ecede4d95b"
      },
      "execution_count": null,
      "outputs": [
        {
          "output_type": "stream",
          "name": "stdout",
          "text": [
            "[1, 0, 2, 1, 1, 0, 1, 2, 1, 1, 2, 0, 0, 0, 0, 1, 2, 1, 1, 2, 0, 2, 0, 2, 2, 2, 2, 2, 0, 0]\n"
          ]
        }
      ]
    },
    {
      "cell_type": "code",
      "source": [
        "accuracy_dict = {}\n",
        "k_values=[3,5,7]\n",
        "for k in k_values:\n",
        "    knn = KNeighborsClassifier(n_neighbors=k)\n",
        "\n",
        "    knn.fit(normalized_X_train, y_train)\n",
        "    y_pred_sklearn = knn.predict(X_test)\n",
        "    accuracy = accuracy_score(y_test, y_pred_sklearn)\n",
        "    accuracy_dict[k] = accuracy\n",
        "    print(f\"Accuracy for K = {k}: {accuracy}\")\n",
        "\n",
        "best_k = max(accuracy_dict, key=accuracy_dict.get)\n",
        "best_accuracy = accuracy_dict[best_k]\n",
        "\n",
        "print(f\"\\nBest K value: {best_k}\")\n",
        "print(f\"Best accuracy: {best_accuracy}\")"
      ],
      "metadata": {
        "colab": {
          "base_uri": "https://localhost:8080/"
        },
        "id": "z6gOXwyZripQ",
        "outputId": "7259cc3c-6322-4bda-8326-08faf3177f45"
      },
      "execution_count": null,
      "outputs": [
        {
          "output_type": "stream",
          "name": "stdout",
          "text": [
            "Accuracy for K = 3: 0.9666666666666667\n",
            "Accuracy for K = 5: 1.0\n",
            "Accuracy for K = 7: 1.0\n",
            "\n",
            "Best K value: 5\n",
            "Best accuracy: 1.0\n"
          ]
        }
      ]
    },
    {
      "cell_type": "markdown",
      "source": [
        "\n",
        "In the case of the Iris dataset, normalization doesn't significantly affect accuracy because the data is balanced, consisting of the same type of units, leading to no substantial differences whether we use distance measures or normalization. However, normalization remains crucial as it can enhance accuracy in other cases by addressing outliers and improving precision in diverse scenarios.\n",
        "\n",
        "\n"
      ],
      "metadata": {
        "id": "2uFcPKHVutVL"
      }
    }
  ]
}